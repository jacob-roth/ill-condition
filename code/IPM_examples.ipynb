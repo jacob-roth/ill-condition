{
 "cells": [
  {
   "cell_type": "markdown",
   "metadata": {},
   "source": [
    "# Interior Point Methods"
   ]
  },
  {
   "cell_type": "markdown",
   "metadata": {},
   "source": [
    "## installation"
   ]
  },
  {
   "cell_type": "markdown",
   "metadata": {},
   "source": [
    "##### install CVXOPT and CVXPY packages"
   ]
  },
  {
   "cell_type": "code",
   "execution_count": null,
   "metadata": {
    "collapsed": true
   },
   "outputs": [],
   "source": [
    "import cvxopt\n",
    "import cvxpy\n",
    "## NOTE: need to change suitesparse package to 4.5.3\n",
    "## $ conda install -c conda-forge suitesparse==4.5.3"
   ]
  },
  {
   "cell_type": "markdown",
   "metadata": {},
   "source": [
    "##### install specific CVXOPT packages"
   ]
  },
  {
   "cell_type": "code",
   "execution_count": null,
   "metadata": {
    "collapsed": true
   },
   "outputs": [],
   "source": [
    "## import L1-Regularized LS solver (over- or under- determined)\n",
    "from cvxopt import l1regls\n",
    "\n",
    "## import L1-Approx solver (overdetermined)\n",
    "from cvxopt import l1\n",
    "\n",
    "## import random normal\n",
    "from cvxopt import normal"
   ]
  },
  {
   "cell_type": "markdown",
   "metadata": {},
   "source": [
    "##### install additional Python packages"
   ]
  },
  {
   "cell_type": "code",
   "execution_count": null,
   "metadata": {
    "collapsed": true
   },
   "outputs": [],
   "source": [
    "import time\n",
    "import numpy as np"
   ]
  },
  {
   "cell_type": "markdown",
   "metadata": {},
   "source": [
    "## examples"
   ]
  },
  {
   "cell_type": "markdown",
   "metadata": {},
   "source": [
    "##### problem: L1 Norm Approx, non-sparse, underdetermined"
   ]
  },
  {
   "cell_type": "code",
   "execution_count": null,
   "metadata": {},
   "outputs": [],
   "source": [
    "## solver: CVXOPT custom KKT\n",
    "t1 = time.time()\n",
    "m, n = 5000, 20000\n",
    "A, b = normal(m,n), normal(m,1)\n",
    "x = cvxopt.l1regls.l1regls(A,b)\n",
    "t2 = time.time()\n",
    "t = t2-t1\n",
    "print(t)"
   ]
  },
  {
   "cell_type": "code",
   "execution_count": null,
   "metadata": {
    "collapsed": true
   },
   "outputs": [],
   "source": [
    "## solver: MOSEK via CVXOPT\n",
    "t1 = time.time()\n",
    "m, n = 5000, 20000\n",
    "A, b = normal(m,n), normal(m,1)\n",
    "x = cvxopt.l1regls.l1regls_mosek(A,b)\n",
    "t2 = time.time()\n",
    "t = t2-t1\n",
    "print(t)"
   ]
  },
  {
   "cell_type": "code",
   "execution_count": null,
   "metadata": {},
   "outputs": [],
   "source": [
    "## solver: CVXOPT custom KKT\n",
    "t1 = time.time()\n",
    "m, n = 500, 200\n",
    "A, b = normal(m,n), normal(m,1)\n",
    "x = cvxopt.l1regls.l1regls(A,b)\n",
    "t2 = time.time()\n",
    "t = t2-t1\n",
    "print(t)"
   ]
  },
  {
   "cell_type": "markdown",
   "metadata": {},
   "source": [
    "##### problem: L1 Norm Approx, non-sparse, overdetermined"
   ]
  },
  {
   "cell_type": "code",
   "execution_count": null,
   "metadata": {},
   "outputs": [],
   "source": [
    "m, n = 20000, 5000\n",
    "P, q = normal(m,n), normal(m,1)\n",
    "u = l1.l1(P,q)"
   ]
  }
 ],
 "metadata": {
  "kernelspec": {
   "display_name": "Python 2",
   "language": "python",
   "name": "python2"
  },
  "language_info": {
   "codemirror_mode": {
    "name": "ipython",
    "version": 2
   },
   "file_extension": ".py",
   "mimetype": "text/x-python",
   "name": "python",
   "nbconvert_exporter": "python",
   "pygments_lexer": "ipython2",
   "version": "2.7.13"
  }
 },
 "nbformat": 4,
 "nbformat_minor": 2
}
