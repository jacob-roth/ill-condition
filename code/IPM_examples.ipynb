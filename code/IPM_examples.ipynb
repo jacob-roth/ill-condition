{
 "cells": [
  {
   "cell_type": "markdown",
   "metadata": {},
   "source": [
    "# Interior Point Methods"
   ]
  },
  {
   "cell_type": "markdown",
   "metadata": {},
   "source": [
    "## installation"
   ]
  },
  {
   "cell_type": "markdown",
   "metadata": {},
   "source": [
    "##### install CVXOPT and CVXPY packages"
   ]
  },
  {
   "cell_type": "code",
   "execution_count": 1,
   "metadata": {
    "collapsed": true
   },
   "outputs": [],
   "source": [
    "import cvxopt\n",
    "import cvxpy\n",
    "## NOTE: need to change suitesparse package to 4.5.3\n",
    "## $ conda install -c conda-forge suitesparse==4.5.3\n",
    "import optimize"
   ]
  },
  {
   "cell_type": "markdown",
   "metadata": {},
   "source": [
    "##### install specific CVXOPT packages"
   ]
  },
  {
   "cell_type": "code",
   "execution_count": 2,
   "metadata": {
    "collapsed": true
   },
   "outputs": [],
   "source": [
    "## import L1-Regularized LS solver (over- or under- determined)\n",
    "from cvxopt import l1regls\n",
    "\n",
    "## import L1-Approx solver (overdetermined)\n",
    "from cvxopt import l1\n",
    "\n",
    "## import random normal\n",
    "from cvxopt import normal"
   ]
  },
  {
   "cell_type": "markdown",
   "metadata": {},
   "source": [
    "##### install additional Python packages"
   ]
  },
  {
   "cell_type": "code",
   "execution_count": 3,
   "metadata": {},
   "outputs": [],
   "source": [
    "import time\n",
    "import numpy as np\n",
    "import matplotlib.pyplot as plt"
   ]
  },
  {
   "cell_type": "markdown",
   "metadata": {},
   "source": [
    "## examples"
   ]
  },
  {
   "cell_type": "markdown",
   "metadata": {},
   "source": [
    "##### problem: L1 Norm Approx, non-sparse, underdetermined"
   ]
  },
  {
   "cell_type": "code",
   "execution_count": 5,
   "metadata": {},
   "outputs": [
    {
     "name": "stdout",
     "output_type": "stream",
     "text": [
      "     pcost       dcost       gap    pres   dres\n",
      " 0: -1.4597e+02 -4.5427e+01  2e+02  3e+01  1e-13\n",
      " 1: -5.2422e+01 -4.4988e+01  2e+01  2e+00  8e-15\n",
      " 2: -4.5350e+01 -4.3034e+01  7e+00  9e-01  3e-15\n",
      " 3: -4.2143e+01 -4.2377e+01  3e+00  2e-01  2e-15\n",
      " 4: -4.1954e+01 -4.2097e+01  1e+00  8e-02  2e-15\n",
      " 5: -4.1921e+01 -4.2007e+01  4e-01  3e-02  2e-15\n",
      " 6: -4.1945e+01 -4.1973e+01  9e-02  6e-03  4e-15\n",
      " 7: -4.1952e+01 -4.1963e+01  2e-02  5e-04  9e-15\n",
      " 8: -4.1960e+01 -4.1962e+01  2e-03  4e-05  9e-15\n",
      " 9: -4.1961e+01 -4.1961e+01  2e-04  4e-06  5e-14\n",
      "10: -4.1961e+01 -4.1961e+01  3e-06  6e-08  2e-13\n",
      "Optimal solution found.\n",
      "0.0103051662445\n",
      "(50, 200)\n",
      "(50, 1)\n",
      "(200, 200)\n",
      "(200,)\n",
      "((200,), (200, 200))\n",
      "(200,)\n",
      "(200,)\n",
      "==========\n",
      "()\n",
      "(200,)\n",
      "((200,), (200,))\n",
      "(<type 'numpy.float64'>, 0.0041669814236465234)\n",
      "CG: 0.004055\n",
      "     pcost       dcost       gap    pres   dres\n",
      " 0: -1.5140e+03 -5.1333e+02  2e+03  1e+02  3e-12\n",
      " 1: -5.5583e+02 -5.1269e+02  9e+01  4e+00  1e-13\n",
      " 2: -5.1387e+02 -5.0447e+02  3e+01  1e+00  4e-14\n",
      " 3: -5.0216e+02 -5.0121e+02  2e+01  5e-01  2e-14\n",
      " 4: -4.9883e+02 -4.9974e+02  6e+00  2e-01  5e-15\n",
      " 5: -4.9826e+02 -4.9925e+02  3e+00  5e-02  3e-15\n",
      " 6: -4.9835e+02 -4.9902e+02  9e-01  8e-03  4e-15\n",
      " 7: -4.9864e+02 -4.9895e+02  4e-01  3e-03  6e-15\n",
      " 8: -4.9880e+02 -4.9891e+02  1e-01  5e-04  8e-15\n",
      " 9: -4.9886e+02 -4.9890e+02  5e-02  2e-04  1e-14\n",
      "10: -4.9889e+02 -4.9890e+02  1e-02  3e-05  3e-14\n",
      "11: -4.9889e+02 -4.9890e+02  4e-03  6e-06  4e-14\n",
      "12: -4.9890e+02 -4.9890e+02  6e-04  7e-07  7e-14\n",
      "13: -4.9890e+02 -4.9890e+02  2e-05  2e-08  2e-13\n",
      "Optimal solution found.\n",
      "0.417402029037\n",
      "(500, 2000)\n",
      "(500, 1)\n",
      "(2000, 2000)\n",
      "(2000,)\n",
      "((2000,), (2000, 2000))\n",
      "(2000,)\n",
      "(2000,)\n",
      "==========\n",
      "()\n",
      "(2000,)\n",
      "((2000,), (2000,))\n",
      "(<type 'numpy.float64'>, 0.00039238946983195225)\n",
      "CG: 0.206632\n",
      "     pcost       dcost       gap    pres   dres\n",
      " 0: -1.4857e+04 -4.8560e+03  2e+04  3e+02  9e-11\n",
      " 1: -5.1149e+03 -4.8554e+03  5e+02  8e+00  2e-12\n",
      " 2: -4.8670e+03 -4.8368e+03  1e+02  2e+00  5e-13\n",
      " 3: -4.8225e+03 -4.8215e+03  6e+01  6e-01  2e-13\n",
      " 4: -4.8095e+03 -4.8156e+03  3e+01  2e-01  7e-14\n",
      " 5: -4.8065e+03 -4.8130e+03  1e+01  8e-02  2e-14\n",
      " 6: -4.8075e+03 -4.8120e+03  8e+00  3e-02  1e-14\n",
      " 7: -4.8089e+03 -4.8115e+03  4e+00  1e-02  6e-15\n",
      " 8: -4.8097e+03 -4.8112e+03  2e+00  3e-03  9e-15\n",
      " 9: -4.8104e+03 -4.8111e+03  7e-01  9e-04  1e-14\n",
      "10: -4.8107e+03 -4.8110e+03  3e-01  3e-04  2e-14\n",
      "11: -4.8109e+03 -4.8110e+03  1e-01  7e-05  3e-14\n",
      "12: -4.8109e+03 -4.8110e+03  5e-02  1e-05  6e-14\n",
      "13: -4.8110e+03 -4.8110e+03  2e-02  2e-06  1e-13\n",
      "14: -4.8110e+03 -4.8110e+03  5e-03  4e-07  2e-13\n",
      "15: -4.8110e+03 -4.8110e+03  1e-03  9e-08  4e-13\n",
      "Optimal solution found.\n",
      "118.948774099\n",
      "(5000, 20000)\n",
      "(5000, 1)\n",
      "(20000, 20000)\n",
      "(20000,)\n",
      "((20000,), (20000, 20000))\n",
      "(20000,)\n",
      "(20000,)\n",
      "==========\n",
      "()\n",
      "(20000,)\n",
      "((20000,), (20000,))\n",
      "(<type 'numpy.float64'>, 4.0143679624053315e-05)\n",
      "CG: 107.720390\n"
     ]
    },
    {
     "data": {
      "image/png": "[encoded data removed]",
      "text/plain": [
       "<matplotlib.figure.Figure at 0x10f0c6110>"
      ]
     },
     "metadata": {},
     "output_type": "display_data"
    }
   ],
   "source": [
    "## solver: CVXOPT custom KKT l1regls\n",
    "k = 3\n",
    "times = []\n",
    "cg_times = []\n",
    "cgs = optimize.ConjugateGradientsSolver(A=None, b=None, full_output=0)\n",
    "for e in range(1,k+1):    \n",
    "    f = 10**e\n",
    "    m, n = 5*f, 20*f\n",
    "    A, b = normal(m,n), normal(m,1)\n",
    "\n",
    "    t1 = time.time()\n",
    "    x = cvxopt.l1regls.l1regls(A,b)\n",
    "    t2 = time.time()\n",
    "    t = t2-t1\n",
    "    times.append(t)\n",
    "    print(t)\n",
    "    \n",
    "    cg_t1 = time.time()\n",
    "    A = np.array(A)\n",
    "    b = np.array(b)\n",
    "    print(A.shape)\n",
    "    print(b.shape)\n",
    "    \n",
    "    AtA = np.array(A.T.dot(A))\n",
    "    Atb = np.array(A.T.dot(b)).reshape(n,)\n",
    "    print(AtA.shape)\n",
    "    print(Atb.shape)\n",
    "    \n",
    "    \n",
    "    cgs.A, cgs.b = AtA, Atb\n",
    "    x_cg = cgs.solve()\n",
    "    cg_t = time.time() - cg_t1\n",
    "    cg_times.append(cg_t)\n",
    "    print('CG: %f' % cg_t)\n",
    "\n",
    "    \n",
    "plt.plot(range(1,k+1), times)\n",
    "plt.plot(range(1,k+1), cg_times)\n",
    "plt.legend(['CVXOPT', 'CG'])\n",
    "plt.show()"
   ]
  },
  {
   "cell_type": "code",
   "execution_count": null,
   "metadata": {},
   "outputs": [],
   "source": [
    "## solver: MOSEK via CVXOPT\n",
    "k = 3\n",
    "times = []\n",
    "for e in range(1,k+1):    \n",
    "    f = 10**e\n",
    "    m, n = 5*f, 20*f\n",
    "    A, b = normal(m,n), normal(m,1)\n",
    "    t1 = time.time()\n",
    "    x = cvxopt.l1regls.l1regls_mosek(A,b)\n",
    "    t2 = time.time()\n",
    "    t = t2-t1\n",
    "    times.append(t)\n",
    "    print(t)\n",
    "\n",
    "plt.plot(range(1,k+1), times)\n",
    "plt.show()"
   ]
  },
  {
   "cell_type": "markdown",
   "metadata": {},
   "source": [
    "##### problem: L1 Norm Approx, non-sparse, overdetermined"
   ]
  },
  {
   "cell_type": "code",
   "execution_count": null,
   "metadata": {},
   "outputs": [],
   "source": [
    "## solver: CVXOPT custom KKT l1regls\n",
    "k = 3\n",
    "times = []\n",
    "for e in range(1,k+1):    \n",
    "    f = 10**e\n",
    "    m, n = 20*f, 5*f\n",
    "    A, b = normal(m,n), normal(m,1)\n",
    "    t1 = time.time()\n",
    "    x = cvxopt.l1regls.l1regls(A,b)\n",
    "    t2 = time.time()\n",
    "    t = t2-t1\n",
    "    times.append(t)\n",
    "    print(t)\n",
    "\n",
    "plt.plot(range(1,k+1), times)\n",
    "plt.show()"
   ]
  },
  {
   "cell_type": "code",
   "execution_count": null,
   "metadata": {},
   "outputs": [],
   "source": [
    "## solver: MOSEK via CVXOPT\n",
    "k = 3\n",
    "times = []\n",
    "for e in range(1,k+1):    \n",
    "    f = 10**e\n",
    "    m, n = 20*f, 5*f\n",
    "    A, b = normal(m,n), normal(m,1)\n",
    "    t1 = time.time()\n",
    "    x = cvxopt.l1regls.l1regls_mosek(A,b)\n",
    "    t2 = time.time()\n",
    "    t = t2-t1\n",
    "    times.append(t)\n",
    "    print(t)\n",
    "\n",
    "plt.plot(range(1,k+1), times)\n",
    "plt.show()"
   ]
  },
  {
   "cell_type": "code",
   "execution_count": null,
   "metadata": {},
   "outputs": [],
   "source": [
    "## solver: CVXOPT custom KKT l1\n",
    "k = 3\n",
    "times = []\n",
    "for e in range(1,k+1):    \n",
    "    f = 10**e\n",
    "    m, n = 20*f, 5*f\n",
    "    A, b = normal(m,n), normal(m,1)\n",
    "    t1 = time.time()\n",
    "    x = cvxopt.l1.l1(A,b)\n",
    "    t2 = time.time()\n",
    "    t = t2-t1\n",
    "    times.append(t)\n",
    "    print(t)\n",
    "\n",
    "plt.plot(range(1,k+1), times)\n",
    "plt.show()"
   ]
  },
  {
   "cell_type": "code",
   "execution_count": null,
   "metadata": {},
   "outputs": [],
   "source": [
    "# from cvxpy import *\n",
    "# import numpy\n",
    "\n",
    "# # Problem data.\n",
    "# m = 30\n",
    "# n = 50\n",
    "# numpy.random.seed(1)\n",
    "# A = numpy.random.randn(m, n)\n",
    "# b = numpy.random.randn(m)\n",
    "\n",
    "# # Construct the problem.\n",
    "# x = Variable(n)\n",
    "# objective = Minimize(sum(x) )\n",
    "# constraints = [0 <= x, numpy.dot(A,x) == b]\n",
    "# prob = Problem(objective, constraints)\n",
    "\n",
    "# # The optimal objective is returned by prob.solve().\n",
    "# result = prob.solve()\n",
    "# # The optimal value for x is stored in x.value.\n",
    "# print(x.value)\n",
    "# # The optimal Lagrange multiplier for a constraint\n",
    "# # is stored in constraint.dual_value.\n",
    "# print(constraints[0].dual_value)"
   ]
  },
  {
   "cell_type": "code",
   "execution_count": null,
   "metadata": {
    "collapsed": true
   },
   "outputs": [],
   "source": []
  },
  {
   "cell_type": "code",
   "execution_count": null,
   "metadata": {},
   "outputs": [],
   "source": []
  },
  {
   "cell_type": "code",
   "execution_count": null,
   "metadata": {
    "collapsed": true
   },
   "outputs": [],
   "source": []
  },
  {
   "cell_type": "code",
   "execution_count": null,
   "metadata": {
    "collapsed": true
   },
   "outputs": [],
   "source": []
  },
  {
   "cell_type": "code",
   "execution_count": null,
   "metadata": {
    "collapsed": true
   },
   "outputs": [],
   "source": []
  },
  {
   "cell_type": "code",
   "execution_count": null,
   "metadata": {
    "collapsed": true
   },
   "outputs": [],
   "source": []
  }
 ],
 "metadata": {
  "kernelspec": {
   "display_name": "Python 2",
   "language": "python",
   "name": "python2"
  },
  "language_info": {
   "codemirror_mode": {
    "name": "ipython",
    "version": 2
   },
   "file_extension": ".py",
   "mimetype": "text/x-python",
   "name": "python",
   "nbconvert_exporter": "python",
   "pygments_lexer": "ipython2",
   "version": "2.7.13"
  }
 },
 "nbformat": 4,
 "nbformat_minor": 2
}
