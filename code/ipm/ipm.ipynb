{
 "cells": [
  {
   "cell_type": "code",
   "execution_count": 1,
   "metadata": {},
   "outputs": [],
   "source": [
    "import numpy as np\n",
    "import scipy as sp\n",
    "import numpy.linalg as la\n",
    "import scipy.linalg as sla\n",
    "import scipy.sparse as sps\n",
    "import scipy.sparse.linalg as spsla\n",
    "import matplotlib.pyplot as plt\n",
    "import sys, time, os\n",
    "import cvxpy as cvx\n",
    "import cvxopt as opt\n",
    "import krypy as kp\n",
    "sys.path.append('..')\n",
    "%load_ext autoreload\n",
    "%autoreload 2"
   ]
  },
  {
   "cell_type": "code",
   "execution_count": 2,
   "metadata": {
    "collapsed": true
   },
   "outputs": [],
   "source": [
    "import problems, projection, optimize, util\n",
    "from tomo1D import blur_1d\n",
    "from tomo2D import blur_2d"
   ]
  },
  {
   "cell_type": "code",
   "execution_count": null,
   "metadata": {
    "collapsed": true
   },
   "outputs": [],
   "source": []
  },
  {
   "cell_type": "markdown",
   "metadata": {},
   "source": [
    "## load data"
   ]
  },
  {
   "cell_type": "code",
   "execution_count": 3,
   "metadata": {},
   "outputs": [
    {
     "name": "stdout",
     "output_type": "stream",
     "text": [
      "k: 30\n",
      "n_1: 49\n",
      "n_2: 50\n",
      "n: 2450\n",
      "m: 1050\n",
      "(<class 'scipy.sparse.csr.csr_matrix'>, 'X size: (1050,2450)', 'nnz: 62307')\n",
      "(<class 'scipy.sparse.csr.csr_matrix'>, 'M size: (30,2450)', 'M', 'nnz: 30')\n",
      "(<class 'scipy.sparse.csr.csr_matrix'>, 'Kb size: (1050,1050)', 'Kb', 'nnz: 1050')\n",
      "(<type 'numpy.ndarray'>, 'sb size: (1050,1)', 'sb', 'nnz: 312')\n"
     ]
    }
   ],
   "source": [
    "# load data\n",
    "X = np.load('../../data/HOTomoMats/Amat.npy')\n",
    "M = np.load('../../data/HOTomoMats/Mmat.npy')\n",
    "sb = np.load('../../data/HOTomoMats/sb.npy')\n",
    "lams = np.load('../../data/HOTomoMats/lambdas.npy')\n",
    "Kb_diag = np.load('../../data/HOTomoMats/DiagKb.npy')\n",
    "Kb = np.diag(Kb_diag)\n",
    "\n",
    "# convert to sparse / vector\n",
    "X = sps.csr_matrix(X)\n",
    "M = M*1\n",
    "M = sps.csr_matrix(M)\n",
    "Kb = sps.csr_matrix(Kb)\n",
    "sb = sb.reshape(len(sb),1)\n",
    "\n",
    "# set sizes\n",
    "k = M.shape[0]\n",
    "n_1, n_2 = 49, 50 # 35, 70\n",
    "n = n_1 * n_2\n",
    "m = Kb.shape[0]\n",
    "\n",
    "# print sizes\n",
    "print('k: %s' % k)      # roi\n",
    "print('n_1: %s' % n_1)  # n rows\n",
    "print('n_2: %s' % n_2)  # n cols\n",
    "print('n: %s' % n)      # image space dim\n",
    "print('m: %s' % m)      # data space dim\n",
    "print(type(X), 'X size: (%s,%s)' % X.shape, 'nnz: %s' % X.count_nonzero())\n",
    "print(type(M), 'M size: (%s,%s)' % M.shape, 'M', 'nnz: %s' % M.count_nonzero())\n",
    "print(type(Kb), 'Kb size: (%s,%s)' % Kb.shape, 'Kb', 'nnz: %s' % Kb.count_nonzero())\n",
    "print(type(sb), 'sb size: (%s,%s)' % sb.shape, 'sb', 'nnz: %s' % np.count_nonzero(sb))"
   ]
  },
  {
   "cell_type": "code",
   "execution_count": null,
   "metadata": {
    "collapsed": true
   },
   "outputs": [],
   "source": [
    "def extendM(M=None, sp=35, lo=19, hi=19):\n",
    "    M = M.A\n",
    "    n = M.shape[1]\n",
    "    \n",
    "    idxs = []\n",
    "    for j in range(n):\n",
    "        if sum(M[:,j]) == 1:\n",
    "            idxs.append(j)\n",
    "    ll = idxs[0]\n",
    "    hh = idxs[-1]\n",
    "    for i in range(1,lo+1):\n",
    "        new = np.zeros(n).reshape(1,n)\n",
    "        new[:,ll-i*sp] = 1.\n",
    "        M = np.vstack((new,M))\n",
    "    for i in range(1,hi+1):\n",
    "        new = np.zeros(n).reshape(1,n)\n",
    "        new[:,ll+i*sp] = 1.\n",
    "        M = np.vstack((M,new))\n",
    "    \n",
    "    return M"
   ]
  },
  {
   "cell_type": "code",
   "execution_count": null,
   "metadata": {},
   "outputs": [],
   "source": [
    "M = extendM(M=M)\n",
    "M = sps.csr_matrix(M)\n",
    "M.shape"
   ]
  },
  {
   "cell_type": "code",
   "execution_count": 4,
   "metadata": {},
   "outputs": [
    {
     "name": "stdout",
     "output_type": "stream",
     "text": [
      "lams: [  9.08303756e+02   9.08303756e+00   9.08303756e-02   9.08303756e-04   1.00000000e-06]\n"
     ]
    }
   ],
   "source": [
    "# load regularization\n",
    "lams = np.append(lams, 1e-6) # [1e-6, 1e-8, 1e-10, 1e-12, 1e-14, 1e-16, 1e-28])\n",
    "print('lams: %s' % lams)"
   ]
  },
  {
   "cell_type": "markdown",
   "metadata": {},
   "source": [
    "## compute rxns"
   ]
  },
  {
   "cell_type": "code",
   "execution_count": 5,
   "metadata": {
    "collapsed": true
   },
   "outputs": [],
   "source": [
    "# construct R\n",
    "Rs = []\n",
    "for lam in lams:\n",
    "    Rs.append(spsla.spsolve(X.T.dot(X) + lam*sps.eye(n), X.T, use_umfpack=True))"
   ]
  },
  {
   "cell_type": "markdown",
   "metadata": {},
   "source": [
    "## set params"
   ]
  },
  {
   "cell_type": "code",
   "execution_count": 35,
   "metadata": {},
   "outputs": [
    {
     "name": "stdout",
     "output_type": "stream",
     "text": [
      "testing lambda: 9.08303755914\n"
     ]
    }
   ],
   "source": [
    "tol = 1e-10  # rcond for pinv; stopping criteria for ipm / minres\n",
    "niter = 100\n",
    "idx = 1      # 3 = Sean's weakest; 0 = strongest\n",
    "\n",
    "# test specific lambda\n",
    "lam = lams[idx]\n",
    "R = Rs[idx]\n",
    "print('testing lambda: %s' % lam)"
   ]
  },
  {
   "cell_type": "code",
   "execution_count": 37,
   "metadata": {
    "collapsed": true
   },
   "outputs": [],
   "source": [
    "# cholesky of K\n",
    "K_12 = sps.spdiags([np.sqrt(x) for x in Kb_diag], diags=0, m=m, n=m)      # cholesky\n",
    "K_12_1 = sps.spdiags([1./x for x in K_12.diagonal()], diags=0, m=m, n=m)  # inverse cholesky"
   ]
  },
  {
   "cell_type": "code",
   "execution_count": 38,
   "metadata": {},
   "outputs": [],
   "source": [
    "# set matrices\n",
    "MTM = M.T.dot(M)\n",
    "G = X.T.dot(Kb).dot(X)\n",
    "Z = M.T.dot(M)\n",
    "XTXL = X.T.dot(X) + lam*sps.eye(n)\n",
    "Y = (sps.eye(n) - Z)\n",
    "A = (sps.eye(n) - Z).dot(X.T.dot(X) + lam*sps.eye(n))\n",
    "c = X.T.dot(sb)\n",
    "LHS = M.dot(R).dot(Kb).dot(R.T).dot(M.T)\n",
    "RHS = M.dot(R).dot(sb)"
   ]
  },
  {
   "cell_type": "markdown",
   "metadata": {},
   "source": [
    "## solve direct"
   ]
  },
  {
   "cell_type": "code",
   "execution_count": 39,
   "metadata": {},
   "outputs": [
    {
     "name": "stdout",
     "output_type": "stream",
     "text": [
      "2.73970459482\n"
     ]
    },
    {
     "data": {
      "image/png": "[encoded data removed]",
      "text/plain": [
       "<matplotlib.figure.Figure at 0x11f30ad50>"
      ]
     },
     "metadata": {},
     "output_type": "display_data"
    }
   ],
   "source": [
    "u,s,v = la.svd(LHS.A)\n",
    "print(la.cond(LHS.A))\n",
    "plt.plot(s)\n",
    "plt.show()"
   ]
  },
  {
   "cell_type": "code",
   "execution_count": 40,
   "metadata": {
    "collapsed": true
   },
   "outputs": [],
   "source": [
    "# solve direct\n",
    "w_d,_,_ = util.direct_solve(Kb=Kb, R=R, M=M, B=None, sb=sb, sparse=True)\n",
    "w_d_pinv = la.pinv(LHS.A, rcond=tol).dot(RHS)"
   ]
  },
  {
   "cell_type": "code",
   "execution_count": 41,
   "metadata": {},
   "outputs": [
    {
     "data": {
      "image/png": "[encoded data removed]",
      "text/plain": [
       "<matplotlib.figure.Figure at 0x136039e90>"
      ]
     },
     "metadata": {},
     "output_type": "display_data"
    }
   ],
   "source": [
    "# check solution\n",
    "plt.plot(w_d, label='w_d: %s'%(la.norm(w_d-w_d_pinv)))\n",
    "plt.plot(w_d_pinv, label='w_d_pinv: %s'%(la.norm(w_d_pinv-w_d_pinv)))\n",
    "plt.legend()\n",
    "plt.show()\n",
    "plt.close()"
   ]
  },
  {
   "cell_type": "code",
   "execution_count": null,
   "metadata": {
    "collapsed": true
   },
   "outputs": [],
   "source": []
  },
  {
   "cell_type": "markdown",
   "metadata": {},
   "source": [
    "## factor for ipm"
   ]
  },
  {
   "cell_type": "code",
   "execution_count": null,
   "metadata": {},
   "outputs": [],
   "source": [
    "G = X.T.dot(Kb).dot(X)\n",
    "print(G.shape)\n",
    "Ginv = spsla.inv(G)"
   ]
  },
  {
   "cell_type": "code",
   "execution_count": null,
   "metadata": {},
   "outputs": [],
   "source": [
    "np.max(Ginv.A)\n",
    "np.min(Ginv.A)"
   ]
  },
  {
   "cell_type": "code",
   "execution_count": null,
   "metadata": {
    "collapsed": true
   },
   "outputs": [],
   "source": [
    "plt.plot(Ginv.A[1,])\n",
    "plt.show()"
   ]
  },
  {
   "cell_type": "code",
   "execution_count": null,
   "metadata": {
    "collapsed": true
   },
   "outputs": [],
   "source": [
    "plt.imshow(Ginv.dot(G).A)\n",
    "plt.show()"
   ]
  },
  {
   "cell_type": "code",
   "execution_count": null,
   "metadata": {
    "collapsed": true
   },
   "outputs": [],
   "source": [
    "Gpinv = la.pinv(G.A)"
   ]
  },
  {
   "cell_type": "code",
   "execution_count": null,
   "metadata": {
    "collapsed": true
   },
   "outputs": [],
   "source": [
    "np.max(Gpinv)\n",
    "np.min(Gpinv)"
   ]
  },
  {
   "cell_type": "code",
   "execution_count": null,
   "metadata": {
    "collapsed": true
   },
   "outputs": [],
   "source": [
    "plt.plot(Gpinv[1,])\n",
    "plt.show()"
   ]
  },
  {
   "cell_type": "code",
   "execution_count": null,
   "metadata": {},
   "outputs": [],
   "source": [
    "Gpinv.shape"
   ]
  },
  {
   "cell_type": "code",
   "execution_count": null,
   "metadata": {},
   "outputs": [],
   "source": [
    "plt.imshow(Gpinv)\n",
    "plt.show()"
   ]
  },
  {
   "cell_type": "code",
   "execution_count": null,
   "metadata": {
    "collapsed": true
   },
   "outputs": [],
   "source": [
    "Gpinv = sps.csr_matrix(Gpinv)"
   ]
  },
  {
   "cell_type": "code",
   "execution_count": null,
   "metadata": {
    "collapsed": true
   },
   "outputs": [],
   "source": [
    "I = Gpinv.dot(G)"
   ]
  },
  {
   "cell_type": "code",
   "execution_count": null,
   "metadata": {},
   "outputs": [],
   "source": [
    "plt.imshow(I.A)\n",
    "plt.show()"
   ]
  },
  {
   "cell_type": "code",
   "execution_count": null,
   "metadata": {
    "collapsed": true
   },
   "outputs": [],
   "source": [
    "x = np.random.randn(2450)"
   ]
  },
  {
   "cell_type": "code",
   "execution_count": null,
   "metadata": {},
   "outputs": [],
   "source": [
    "M.T.dot(M).dot((np.eye(2450) - M.T.dot(M))).dot(x)"
   ]
  },
  {
   "cell_type": "code",
   "execution_count": null,
   "metadata": {
    "collapsed": true
   },
   "outputs": [],
   "source": []
  },
  {
   "cell_type": "code",
   "execution_count": null,
   "metadata": {},
   "outputs": [],
   "source": [
    "Z_condnum = la.cond(Z.A)"
   ]
  },
  {
   "cell_type": "code",
   "execution_count": null,
   "metadata": {},
   "outputs": [],
   "source": [
    "Zinv = la.inv(Z.A)"
   ]
  },
  {
   "cell_type": "code",
   "execution_count": null,
   "metadata": {
    "collapsed": true
   },
   "outputs": [],
   "source": [
    "x = np.random.rand(n)"
   ]
  },
  {
   "cell_type": "code",
   "execution_count": null,
   "metadata": {},
   "outputs": [],
   "source": [
    "U,S,V = la.svd(A.A)"
   ]
  },
  {
   "cell_type": "code",
   "execution_count": null,
   "metadata": {},
   "outputs": [],
   "source": [
    "X.shape"
   ]
  },
  {
   "cell_type": "code",
   "execution_count": null,
   "metadata": {},
   "outputs": [],
   "source": [
    "M.shape"
   ]
  },
  {
   "cell_type": "code",
   "execution_count": null,
   "metadata": {},
   "outputs": [],
   "source": [
    "la.matrix_rank(X.A)"
   ]
  },
  {
   "cell_type": "code",
   "execution_count": null,
   "metadata": {},
   "outputs": [],
   "source": [
    "np.sum(A != A.T)"
   ]
  },
  {
   "cell_type": "code",
   "execution_count": null,
   "metadata": {},
   "outputs": [],
   "source": []
  },
  {
   "cell_type": "code",
   "execution_count": 42,
   "metadata": {},
   "outputs": [
    {
     "name": "stdout",
     "output_type": "stream",
     "text": [
      "(1050, 1050)\n",
      "(1050, 2450)\n",
      "(1050, 1050)\n",
      "(1050, 1)\n"
     ]
    }
   ],
   "source": [
    "# initialize problem\n",
    "u = cvx.Variable(n)\n",
    "# w = cvx.Variable(n)\n",
    "obj = cvx.Minimize( cvx.norm(K_12*X*u - K_12_1*sb))\n",
    "constr = [Y*w == float(0)]\n",
    "# constr += [(X.T.dot(X) + lam*sps.eye(n))*u == w]\n",
    "prob = cvx.Problem(obj, constr)\n",
    "\n",
    "print(K_12.shape)\n",
    "print(X.shape)\n",
    "print(K_12_1.shape)\n",
    "print(sb.shape)\n",
    "\n",
    "mosek_params = {'MSK_IPAR_OPTIMIZER':2}  # 2: conic (http://docs.mosek.com/8.0/capi/constants.html#optimizertype)\n",
    "mosek_params['MSK_DPAR_INTPNT_CO_TOL_REL_GAP'] = 1e-9    # doesn't seem to work with `tol` tolerance; breaks at 1e-14\n",
    "mosek_params['MSK_IPAR_INTPNT_MAX_ITERATIONS'] = niter    # doesn't seem to work...\n",
    "mosek_params['MSK_IPAR_PRESOLVE_USE'] = 0 # setting MSK_PRESOLVE_MODE_OFF to off"
   ]
  },
  {
   "cell_type": "code",
   "execution_count": 43,
   "metadata": {},
   "outputs": [
    {
     "name": "stdout",
     "output_type": "stream",
     "text": [
      "Problem\n",
      "  Name                   :                 \n",
      "  Objective sense        : min             \n",
      "  Type                   : CONIC (conic optimization problem)\n",
      "  Constraints            : 3501            \n",
      "  Cones                  : 1               \n",
      "  Scalar variables       : 5952            \n",
      "  Matrix variables       : 0               \n",
      "  Integer variables      : 0               \n",
      "\n",
      "Optimizer started.\n",
      "Problem\n",
      "  Name                   :                 \n",
      "  Objective sense        : min             \n",
      "  Type                   : CONIC (conic optimization problem)\n",
      "  Constraints            : 3501            \n",
      "  Cones                  : 1               \n",
      "  Scalar variables       : 5952            \n",
      "  Matrix variables       : 0               \n",
      "  Integer variables      : 0               \n",
      "\n",
      "Optimizer  - threads                : 8               \n",
      "Optimizer  - solved problem         : the primal      \n",
      "Optimizer  - Constraints            : 3501\n",
      "Optimizer  - Cones                  : 2\n",
      "Optimizer  - Scalar variables       : 5953              conic                  : 5953            \n",
      "Optimizer  - Semi-definite variables: 0                 scalarized             : 0               \n",
      "Factor     - setup time             : 0.04              dense det. time        : 0.00            \n",
      "Factor     - ML order time          : 0.02              GP order time          : 0.00            \n",
      "Factor     - nonzeros before factor : 1.83e+05          after factor           : 2.69e+05        \n",
      "Factor     - dense dim.             : 4                 flops                  : 8.26e+07        \n",
      "ITE PFEAS    DFEAS    GFEAS    PRSTATUS   POBJ              DOBJ              MU       TIME  \n",
      "0   1.0e+00  1.0e+00  1.0e+00  0.00e+00   0.000000000e+00   0.000000000e+00   1.0e+00  0.05  \n",
      "1   9.8e-02  9.8e-02  3.4e-02  -9.70e-01  1.056079351e+01   4.093220042e+01   9.8e-02  0.09  \n",
      "2   1.2e-02  1.2e-02  6.8e-02  3.10e-01   1.849774332e+01   1.823107688e+01   1.2e-02  0.11  \n",
      "3   3.0e-03  3.0e-03  9.3e-03  4.82e-01   1.434019377e+01   1.459068905e+01   3.0e-03  0.13  \n",
      "4   2.9e-04  2.9e-04  1.2e-03  -3.02e-01  4.580859237e+00   4.772918017e+00   2.9e-04  0.15  \n",
      "5   3.6e-05  3.6e-05  1.4e-04  3.61e-01   5.891792871e-01   8.349692192e-01   3.6e-05  0.17  \n",
      "6   2.1e-06  2.1e-06  3.7e-05  9.40e-01   4.936290642e-02   6.208762279e-02   2.1e-06  0.19  \n",
      "7   2.5e-07  2.5e-07  1.2e-05  7.83e-01   8.386677481e-03   1.009504242e-02   2.5e-07  0.21  \n",
      "8   2.9e-08  2.9e-08  4.9e-06  7.46e-01   1.690277310e-03   1.822354115e-03   2.9e-08  0.22  \n",
      "9   4.6e-09  4.6e-09  1.4e-06  7.16e-01   2.525312494e-04   2.944807870e-04   4.6e-09  0.24  \n",
      "10  3.8e-11  3.0e-11  9.4e-08  1.04e+00   1.881437896e-06   2.273050630e-06   3.0e-11  0.25  \n",
      "11  4.5e-14  1.1e-17  1.1e-17  1.00e+00   -6.290232959e-12  -2.546231336e-14  6.7e-17  0.27  \n",
      "Optimizer terminated. Time: 0.30    \n",
      "\n",
      "\n",
      "Interior-point solution summary\n",
      "  Problem status  : PRIMAL_AND_DUAL_FEASIBLE\n",
      "  Solution status : OPTIMAL\n",
      "  Primal.  obj: -6.2902329588e-12   nrm: 4e+01    Viol.  con: 1e-11    var: 0e+00    cones: 0e+00  \n",
      "  Dual.    obj: -2.5462313364e-14   nrm: 1e+00    Viol.  con: 0e+00    var: 2e-15    cones: 0e+00  \n"
     ]
    }
   ],
   "source": [
    "# solve problem\n",
    "result = prob.solve(solver='MOSEK', mosek_params=mosek_params, verbose=True)\n",
    "u_cvx = spsla.spsolve(XTXL,u.value)\n",
    "w_cvx = util.calc_hot(X=X, B=None, lam=lam, M=M, u=u_cvx, ESI=False)"
   ]
  },
  {
   "cell_type": "code",
   "execution_count": null,
   "metadata": {
    "collapsed": true
   },
   "outputs": [],
   "source": []
  },
  {
   "cell_type": "code",
   "execution_count": 45,
   "metadata": {},
   "outputs": [
    {
     "data": {
      "image/png": "[encoded data removed]",
      "text/plain": [
       "<matplotlib.figure.Figure at 0x135ff3f10>"
      ]
     },
     "metadata": {},
     "output_type": "display_data"
    }
   ],
   "source": [
    "# check solution\n",
    "plt.plot(w_cvx, label='w_cvx: %s'%(la.norm(w_cvx-w_d_pinv)), marker='x')\n",
    "plt.plot(w_d, label='w_d: %s'%(la.norm(w_d-w_d_pinv)))\n",
    "plt.plot(w_d_pinv, label='w_d_pinv: %s'%(la.norm(w_d_pinv-w_d_pinv)), marker='o', markersize=3)\n",
    "plt.legend()\n",
    "plt.show()\n",
    "plt.close()"
   ]
  },
  {
   "cell_type": "code",
   "execution_count": null,
   "metadata": {
    "collapsed": true
   },
   "outputs": [],
   "source": []
  },
  {
   "cell_type": "code",
   "execution_count": null,
   "metadata": {
    "collapsed": true
   },
   "outputs": [],
   "source": [
    "ESI_A, ESI_b = util.gen_ESI_system(X=X, Kb=Kb, B=None, M=M, lam=lam, sb=sb)"
   ]
  },
  {
   "cell_type": "code",
   "execution_count": null,
   "metadata": {
    "collapsed": true
   },
   "outputs": [],
   "source": [
    "# solve minres\n",
    "u_m, _, us_m, mr_m, t_m, tt_m = spsla.minres_track(A=ESI_A, b=ESI_b, tol=tol, maxiter=niter)\n",
    "u_m = u_m.reshape(len(u_m),1)\n",
    "w_m = util.calc_hot(X=X, B=None, lam=lam, M=M, u=u_m, ESI=True)"
   ]
  },
  {
   "cell_type": "code",
   "execution_count": null,
   "metadata": {},
   "outputs": [],
   "source": [
    "# check solution\n",
    "plt.plot(w_m, label='w_m: %s'%(la.norm(w_m-w_d_pinv)))\n",
    "# plt.plot(w_d, label='w_d: %s'%(la.norm(w_d-w_d_pinv)))\n",
    "# plt.plot(w_d_pinv, label='w_d_pinv: %s'%(la.norm(w_d_pinv-w_d_pinv)))\n",
    "plt.legend()\n",
    "plt.show()\n",
    "plt.close()"
   ]
  },
  {
   "cell_type": "code",
   "execution_count": null,
   "metadata": {
    "collapsed": true
   },
   "outputs": [],
   "source": []
  },
  {
   "cell_type": "markdown",
   "metadata": {},
   "source": [
    "## JAKES IPM"
   ]
  },
  {
   "cell_type": "code",
   "execution_count": null,
   "metadata": {
    "collapsed": true
   },
   "outputs": [],
   "source": [
    "import numpy as np\n",
    "import matlab.engine\n",
    "eng = matlab.engine.start_matlab()"
   ]
  },
  {
   "cell_type": "code",
   "execution_count": null,
   "metadata": {},
   "outputs": [],
   "source": [
    "def ipm(x0=None, s0=None, y0=None, z0=None, \\\n",
    "        mu0=None, sigma=None, tau=None, \\\n",
    "        niter=10):\n",
    "\n",
    "    ## set initial parameters\n",
    "    if x0 is None: x0 = np.array([-1.71, 1.59, 1.82, -0.763, -0.763])\n",
    "    if s0 is None: s0 = np.array([0.5, 0.5])\n",
    "    if y0 is None: y0 = np.array([0.5, 0.5, 0.5])\n",
    "    if z0 is None: z0 = np.array([0.5, 0.5])\n",
    "    if mu0 is None: mu0 = 2.\n",
    "    if sigma is None: sigma = 0.5     # python only\n",
    "    if tau is None: tau = 0.995       # python only\n",
    "    err = 1e6                         # python only\n",
    "\n",
    "    ## prepare for iterations\n",
    "    x = x0\n",
    "    s = s0\n",
    "    y = y0\n",
    "    z = z0\n",
    "    mu = mu0                           # python only\n",
    "\n",
    "    ## solver interior Newton systems\n",
    "    for k in range(niter):\n",
    "        print(\"==== iteration: {:d} ================================\".format(k))\n",
    "\n",
    "        ## prepare current iterate to MATLAB\n",
    "        x = matlab.double([q for q in x])\n",
    "        s = matlab.double([q for q in s])\n",
    "        y = matlab.double([q for q in y])\n",
    "        z = matlab.double([q for q in z])\n",
    "        inner = 0\n",
    "\n",
    "        ## determine step\n",
    "        while err > mu:\n",
    "            ## setup and solve Newton System\n",
    "            out = eng.ntsys(x, s, y, z, mu, nargout=4)\n",
    "            [J, h, p, err] = [np.array(o) for o in out]\n",
    "            ## reformatting\n",
    "            p_x = p[0:5]\n",
    "            p_s = p[5:7]\n",
    "            p_y = p[7:10]\n",
    "            p_z = p[10:12]\n",
    "            x = np.array(x).reshape(5,1)\n",
    "            s = np.array(s).reshape(2,1)\n",
    "            y = np.array(y).reshape(3,1)\n",
    "            z = np.array(z).reshape(2,1)\n",
    "            ## step length\n",
    "            a = np.linspace(0.,1., 100)\n",
    "            a_s = a[max(np.where(s[0] + a*p_s >= (1.-tau)*s[0])[0])]\n",
    "            a_z = a[max(np.where(z[0] + a*p_z[0][0] >= (1.-tau)*z)[0])]\n",
    "            ## updates\n",
    "            x += a_s*p_x\n",
    "            s += a_s*p_s[0]\n",
    "            y += a_z*p_y\n",
    "            z += a_z*p_z[0]\n",
    "            ## prepare current information for MATLAB\n",
    "            x = matlab.double([float(q) for q in x])\n",
    "            s = matlab.double([float(q) for q in s])\n",
    "            y = matlab.double([float(q) for q in y])\n",
    "            z = matlab.double([float(q) for q in z])\n",
    "            ## compute error\n",
    "            out = eng.ntsys(x, s, y, z, mu, nargout=4)\n",
    "            [_, _, _, err] = [np.array(o) for o in out]\n",
    "            ## tracking\n",
    "            inner += 1\n",
    "            print(x)\n",
    "            print(err)\n",
    "            print(inner)\n",
    "\n",
    "        ## adjust mu\n",
    "        mu *= sigma\n",
    "\n",
    "    return x\n"
   ]
  },
  {
   "cell_type": "code",
   "execution_count": null,
   "metadata": {},
   "outputs": [],
   "source": [
    "x = ipm()\n",
    "print(x)"
   ]
  },
  {
   "cell_type": "code",
   "execution_count": null,
   "metadata": {},
   "outputs": [],
   "source": [
    "eng.ipm_example()"
   ]
  },
  {
   "cell_type": "code",
   "execution_count": null,
   "metadata": {},
   "outputs": [],
   "source": [
    "la.matrix_rank(A.A)"
   ]
  },
  {
   "cell_type": "code",
   "execution_count": 20,
   "metadata": {},
   "outputs": [],
   "source": [
    "MTM = M.T.dot(M)"
   ]
  },
  {
   "cell_type": "code",
   "execution_count": null,
   "metadata": {},
   "outputs": [],
   "source": [
    "la.matrix_rank(MTM.A)"
   ]
  },
  {
   "cell_type": "code",
   "execution_count": null,
   "metadata": {},
   "outputs": [],
   "source": [
    "plt.imshow(MTM.A)\n",
    "plt.show()"
   ]
  },
  {
   "cell_type": "code",
   "execution_count": null,
   "metadata": {},
   "outputs": [],
   "source": [
    "MTM"
   ]
  },
  {
   "cell_type": "code",
   "execution_count": null,
   "metadata": {},
   "outputs": [],
   "source": [
    "sps.find(MTM)"
   ]
  },
  {
   "cell_type": "code",
   "execution_count": 21,
   "metadata": {},
   "outputs": [],
   "source": [
    "U,S,V = la.svd(MTM.A)"
   ]
  },
  {
   "cell_type": "code",
   "execution_count": null,
   "metadata": {},
   "outputs": [],
   "source": [
    "sps.find(u)"
   ]
  },
  {
   "cell_type": "code",
   "execution_count": null,
   "metadata": {},
   "outputs": [],
   "source": [
    "sps.find(v)"
   ]
  },
  {
   "cell_type": "code",
   "execution_count": null,
   "metadata": {},
   "outputs": [],
   "source": [
    "plt.imshow(v)\n",
    "plt.show()"
   ]
  },
  {
   "cell_type": "code",
   "execution_count": null,
   "metadata": {},
   "outputs": [],
   "source": [
    "P_kA = v.dot(v.T)"
   ]
  },
  {
   "cell_type": "code",
   "execution_count": null,
   "metadata": {},
   "outputs": [],
   "source": [
    "plt.imshow(P_kA)\n",
    "plt.show()"
   ]
  },
  {
   "cell_type": "code",
   "execution_count": null,
   "metadata": {},
   "outputs": [],
   "source": [
    "for i in range(3):\n",
    "    print(len(sps.find(P_kA)[i]))"
   ]
  },
  {
   "cell_type": "code",
   "execution_count": null,
   "metadata": {
    "collapsed": true
   },
   "outputs": [],
   "source": [
    "x = np.random.rand(n)"
   ]
  },
  {
   "cell_type": "code",
   "execution_count": null,
   "metadata": {},
   "outputs": [],
   "source": [
    "L, U = sla.lu(MTM.A, permute_l=True)"
   ]
  },
  {
   "cell_type": "code",
   "execution_count": null,
   "metadata": {},
   "outputs": [],
   "source": [
    "plt.imshow(U)\n",
    "plt.show()"
   ]
  },
  {
   "cell_type": "code",
   "execution_count": null,
   "metadata": {},
   "outputs": [],
   "source": [
    "np.sum(L!=sps.eye(n))"
   ]
  },
  {
   "cell_type": "code",
   "execution_count": null,
   "metadata": {},
   "outputs": [],
   "source": [
    "x0 = la.solve(A.A,np.zeros(n))"
   ]
  },
  {
   "cell_type": "code",
   "execution_count": null,
   "metadata": {
    "collapsed": true
   },
   "outputs": [],
   "source": [
    "V = v.T.dot(v)"
   ]
  },
  {
   "cell_type": "code",
   "execution_count": null,
   "metadata": {},
   "outputs": [],
   "source": [
    "V.shape"
   ]
  },
  {
   "cell_type": "code",
   "execution_count": null,
   "metadata": {},
   "outputs": [],
   "source": [
    "pka = sps.eye(n) - A.dot(A.T.dot(A))"
   ]
  },
  {
   "cell_type": "code",
   "execution_count": 22,
   "metadata": {
    "collapsed": true
   },
   "outputs": [],
   "source": [
    "def null(A, eps=1e-15):\n",
    "    u, s, vh = sp.linalg.svd(A)\n",
    "    null_mask = (s <= eps)\n",
    "    null_space = sp.compress(null_mask, vh, axis=0)\n",
    "    return sp.transpose(null_space)"
   ]
  },
  {
   "cell_type": "code",
   "execution_count": null,
   "metadata": {},
   "outputs": [],
   "source": [
    "t = np.matrix([\n",
    "...     [2,3,5],\n",
    "...     [-4,2,3],\n",
    "        [0,0,0]\n",
    "...     ])  "
   ]
  },
  {
   "cell_type": "code",
   "execution_count": null,
   "metadata": {},
   "outputs": [],
   "source": [
    "null(t)"
   ]
  },
  {
   "cell_type": "code",
   "execution_count": 23,
   "metadata": {},
   "outputs": [],
   "source": [
    "N=null(MTM.A)"
   ]
  },
  {
   "cell_type": "code",
   "execution_count": 24,
   "metadata": {},
   "outputs": [
    {
     "data": {
      "image/png": "[encoded data removed]",
      "text/plain": [
       "<matplotlib.figure.Figure at 0x11f39e8d0>"
      ]
     },
     "metadata": {},
     "output_type": "display_data"
    }
   ],
   "source": [
    "plt.plot(N)\n",
    "plt.show()"
   ]
  },
  {
   "cell_type": "code",
   "execution_count": null,
   "metadata": {},
   "outputs": [],
   "source": [
    "N.shape"
   ]
  },
  {
   "cell_type": "code",
   "execution_count": null,
   "metadata": {},
   "outputs": [],
   "source": [
    "A.dot(x[:,1])"
   ]
  },
  {
   "cell_type": "code",
   "execution_count": null,
   "metadata": {
    "collapsed": true
   },
   "outputs": [],
   "source": []
  },
  {
   "cell_type": "code",
   "execution_count": null,
   "metadata": {
    "collapsed": true
   },
   "outputs": [],
   "source": []
  },
  {
   "cell_type": "code",
   "execution_count": null,
   "metadata": {
    "collapsed": true
   },
   "outputs": [],
   "source": []
  }
 ],
 "metadata": {
  "kernelspec": {
   "display_name": "Python 2",
   "language": "python",
   "name": "python2"
  },
  "language_info": {
   "codemirror_mode": {
    "name": "ipython",
    "version": 2
   },
   "file_extension": ".py",
   "mimetype": "text/x-python",
   "name": "python",
   "nbconvert_exporter": "python",
   "pygments_lexer": "ipython2",
   "version": "2.7.13"
  },
  "toc": {
   "nav_menu": {},
   "number_sections": true,
   "sideBar": true,
   "skip_h1_title": false,
   "toc_cell": false,
   "toc_position": {
    "height": "748px",
    "left": "0px",
    "right": "1242px",
    "top": "106px",
    "width": "147px"
   },
   "toc_section_display": "block",
   "toc_window_display": true
  }
 },
 "nbformat": 4,
 "nbformat_minor": 2
}
